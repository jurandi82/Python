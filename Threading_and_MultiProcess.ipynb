{
  "nbformat": 4,
  "nbformat_minor": 0,
  "metadata": {
    "colab": {
      "name": "Threading_and_MultiProcess.ipynb",
      "provenance": [],
      "collapsed_sections": [],
      "authorship_tag": "ABX9TyNyp9eHkuQb+UzVGUxceO0M",
      "include_colab_link": true
    },
    "kernelspec": {
      "name": "python3",
      "display_name": "Python 3"
    },
    "language_info": {
      "name": "python"
    }
  },
  "cells": [
    {
      "cell_type": "markdown",
      "metadata": {
        "id": "view-in-github",
        "colab_type": "text"
      },
      "source": [
        "<a href=\"https://colab.research.google.com/github/jurandi82/Python/blob/main/Threading_and_MultiProcess.ipynb\" target=\"_parent\"><img src=\"https://colab.research.google.com/assets/colab-badge.svg\" alt=\"Open In Colab\"/></a>"
      ]
    },
    {
      "cell_type": "markdown",
      "metadata": {
        "id": "5SEMFo-azERg"
      },
      "source": [
        "# Modelo de programação em paralelo"
      ]
    },
    {
      "cell_type": "markdown",
      "metadata": {
        "id": "PR52KfrzUgUQ"
      },
      "source": [
        "## Importando bibliotecas"
      ]
    },
    {
      "cell_type": "code",
      "metadata": {
        "id": "3ld4FP7iy1T4"
      },
      "source": [
        "from os import cpu_count\n",
        "from time import sleep,time\n",
        "\n",
        "# biblioteca usada para controlar as chamadas\n",
        "from concurrent.futures import ThreadPoolExecutor, ProcessPoolExecutor, as_completed"
      ],
      "execution_count": 1,
      "outputs": []
    },
    {
      "cell_type": "markdown",
      "metadata": {
        "id": "8aygY603UlC-"
      },
      "source": [
        "## Função para distribuir as tarefas"
      ]
    },
    {
      "cell_type": "code",
      "metadata": {
        "id": "Ld3brarm-UDG"
      },
      "source": [
        "# função para aplicar o paralelismo\n",
        "def mapp(fn,data,mode='p',workers=6):\n",
        "  \n",
        "  # cria lista de tarefas\n",
        "  tasks=[]\n",
        "  \n",
        "  # checa se modo Process ou Thread\n",
        "  if mode=='p':\n",
        "    with ProcessPoolExecutor(max_workers=workers) as tex:\n",
        "      tasks=[tex.submit(fn,i) for i in data]\n",
        "  elif mode=='t':\n",
        "    with ThreadPoolExecutor(max_workers=workers) as tex:\n",
        "      tasks=[tex.submit(fn,i) for i in data]\n",
        "  else:\n",
        "    print(\"Modo invalido, precisa se 'p' para Process ou 't' para Thread\")\n",
        "  \n",
        "  # aguarda até tudo finalizar\n",
        "  for task in as_completed(tasks):\n",
        "    print(task.result())"
      ],
      "execution_count": 14,
      "outputs": []
    },
    {
      "cell_type": "markdown",
      "metadata": {
        "id": "EiXiRgQ5UqFQ"
      },
      "source": [
        "## Funções de testes"
      ]
    },
    {
      "cell_type": "code",
      "metadata": {
        "id": "M6Z-wVMszDia"
      },
      "source": [
        "def funcao_teste(s):\n",
        "    sleep(s)\n",
        "    return f\"Finalizou em {s} segundos\""
      ],
      "execution_count": 15,
      "outputs": []
    },
    {
      "cell_type": "code",
      "metadata": {
        "id": "TakOz2Ur93us"
      },
      "source": [
        "def funcao_teste2(s):\n",
        "    inicio=time()\n",
        "    for i in range(1_000*s):\n",
        "      _ = i**i-i**i\n",
        "    fim=time()-inicio\n",
        "    return f\"Finalizou em {fim:.2f} segundos\""
      ],
      "execution_count": 16,
      "outputs": []
    },
    {
      "cell_type": "markdown",
      "metadata": {
        "id": "NA07kWvVUv85"
      },
      "source": [
        "## Dados de teste"
      ]
    },
    {
      "cell_type": "code",
      "metadata": {
        "id": "oUhKmEPsz15p"
      },
      "source": [
        "data_teste=[1,2,1,2,3,1,2,1,1,4,1,3,1,1,5]"
      ],
      "execution_count": 17,
      "outputs": []
    },
    {
      "cell_type": "markdown",
      "metadata": {
        "id": "qPySBJqHU6kc"
      },
      "source": [
        "## Selecionando número máximo de chamadas na variável workers"
      ]
    },
    {
      "cell_type": "code",
      "metadata": {
        "colab": {
          "base_uri": "https://localhost:8080/"
        },
        "id": "yy5t75897dad",
        "outputId": "1709d909-e141-49eb-aa57-440690e1cd07"
      },
      "source": [
        "# padrão da biblioteca futures\n",
        "# workers=min(32, cpu_count() + 4)  # 6 no caso do Colab\n",
        "workers=6\n",
        "print(f\"CPUs {cpu_count()}, usando {workers} chamadas para {len(data_teste)} tarefas.\")"
      ],
      "execution_count": 18,
      "outputs": [
        {
          "output_type": "stream",
          "name": "stdout",
          "text": [
            "CPUs 2, usando 6 chamadas para 15 tarefas.\n"
          ]
        }
      ]
    },
    {
      "cell_type": "markdown",
      "metadata": {
        "id": "7ncsO81vUzfv"
      },
      "source": [
        "## Execução com foco em espera"
      ]
    },
    {
      "cell_type": "code",
      "metadata": {
        "colab": {
          "base_uri": "https://localhost:8080/"
        },
        "id": "RYq8J4s-0V8T",
        "outputId": "8f0c1fb5-a99e-4176-e89e-db49a1d73a69"
      },
      "source": [
        "# %time print(list(map(funcao_teste,data_teste)))\n",
        "print(f'Execução linear demora {sum(data_teste)} segundos')"
      ],
      "execution_count": 19,
      "outputs": [
        {
          "output_type": "stream",
          "name": "stdout",
          "text": [
            "Execução linear demora 29 segundos\n"
          ]
        }
      ]
    },
    {
      "cell_type": "code",
      "metadata": {
        "colab": {
          "base_uri": "https://localhost:8080/"
        },
        "id": "2NrNuhWY0dBB",
        "outputId": "f7d33bd4-0679-4871-c16c-bbdd9eecdb6a"
      },
      "source": [
        "# Executando espera em modo Multithreading\n",
        "%%time\n",
        "mapp(fn=funcao_teste, data=data_teste, mode='t',workers=workers)"
      ],
      "execution_count": 25,
      "outputs": [
        {
          "output_type": "stream",
          "name": "stdout",
          "text": [
            "Finalizou em 2 segundos\n",
            "Finalizou em 1 segundos\n",
            "Finalizou em 5 segundos\n",
            "Finalizou em 3 segundos\n",
            "Finalizou em 1 segundos\n",
            "Finalizou em 4 segundos\n",
            "Finalizou em 1 segundos\n",
            "Finalizou em 1 segundos\n",
            "Finalizou em 1 segundos\n",
            "Finalizou em 1 segundos\n",
            "Finalizou em 2 segundos\n",
            "Finalizou em 1 segundos\n",
            "Finalizou em 1 segundos\n",
            "Finalizou em 2 segundos\n",
            "Finalizou em 3 segundos\n",
            "CPU times: user 45.9 ms, sys: 5.43 ms, total: 51.3 ms\n",
            "Wall time: 8.01 s\n"
          ]
        }
      ]
    },
    {
      "cell_type": "code",
      "metadata": {
        "colab": {
          "base_uri": "https://localhost:8080/"
        },
        "id": "AvH43qLZ1e_X",
        "outputId": "bb070130-3c8c-40d0-dcf7-ee6019644bc4"
      },
      "source": [
        "# Executando espera em modo Multiprocessing\n",
        "%%time\n",
        "mapp(fn=funcao_teste, data=data_teste, mode='p',workers=workers)"
      ],
      "execution_count": 21,
      "outputs": [
        {
          "output_type": "stream",
          "name": "stdout",
          "text": [
            "Finalizou em 1 segundos\n",
            "Finalizou em 1 segundos\n",
            "Finalizou em 1 segundos\n",
            "Finalizou em 2 segundos\n",
            "Finalizou em 1 segundos\n",
            "Finalizou em 1 segundos\n",
            "Finalizou em 3 segundos\n",
            "Finalizou em 2 segundos\n",
            "Finalizou em 3 segundos\n",
            "Finalizou em 5 segundos\n",
            "Finalizou em 4 segundos\n",
            "Finalizou em 1 segundos\n",
            "Finalizou em 1 segundos\n",
            "Finalizou em 2 segundos\n",
            "Finalizou em 1 segundos\n",
            "CPU times: user 60.1 ms, sys: 41.9 ms, total: 102 ms\n",
            "Wall time: 8.08 s\n"
          ]
        }
      ]
    },
    {
      "cell_type": "markdown",
      "metadata": {
        "id": "H9jHCD90VdF7"
      },
      "source": [
        "## Execução com foco em cálculos"
      ]
    },
    {
      "cell_type": "code",
      "metadata": {
        "colab": {
          "base_uri": "https://localhost:8080/"
        },
        "id": "Ac38b2Vb8Dgw",
        "outputId": "6e89f50f-6e1e-4b8c-f6b5-190c56bfd16f"
      },
      "source": [
        "# Executando calculo em modo Linear\n",
        "%%time\n",
        "[i for i in map(funcao_teste2,data_teste)]"
      ],
      "execution_count": 22,
      "outputs": [
        {
          "output_type": "stream",
          "name": "stdout",
          "text": [
            "CPU times: user 4.1 s, sys: 3.75 ms, total: 4.11 s\n",
            "Wall time: 4.12 s\n"
          ]
        },
        {
          "output_type": "execute_result",
          "data": {
            "text/plain": [
              "['Finalizou em 0.02 segundos',\n",
              " 'Finalizou em 0.14 segundos',\n",
              " 'Finalizou em 0.02 segundos',\n",
              " 'Finalizou em 0.13 segundos',\n",
              " 'Finalizou em 0.45 segundos',\n",
              " 'Finalizou em 0.02 segundos',\n",
              " 'Finalizou em 0.14 segundos',\n",
              " 'Finalizou em 0.02 segundos',\n",
              " 'Finalizou em 0.02 segundos',\n",
              " 'Finalizou em 0.93 segundos',\n",
              " 'Finalizou em 0.02 segundos',\n",
              " 'Finalizou em 0.42 segundos',\n",
              " 'Finalizou em 0.02 segundos',\n",
              " 'Finalizou em 0.02 segundos',\n",
              " 'Finalizou em 1.76 segundos']"
            ]
          },
          "metadata": {},
          "execution_count": 22
        }
      ]
    },
    {
      "cell_type": "code",
      "metadata": {
        "colab": {
          "base_uri": "https://localhost:8080/"
        },
        "id": "NvCbLJi94B6o",
        "outputId": "98aee31b-3490-4a61-8013-5bc39b8083b1"
      },
      "source": [
        "# Executando calculo em modo Multithreading\n",
        "%%time\n",
        "mapp(fn=funcao_teste2, data=data_teste, mode='t',workers=workers)"
      ],
      "execution_count": 23,
      "outputs": [
        {
          "output_type": "stream",
          "name": "stdout",
          "text": [
            "Finalizou em 2.97 segundos\n",
            "Finalizou em 1.93 segundos\n",
            "Finalizou em 1.98 segundos\n",
            "Finalizou em 0.71 segundos\n",
            "Finalizou em 0.09 segundos\n",
            "Finalizou em 0.03 segundos\n",
            "Finalizou em 0.76 segundos\n",
            "Finalizou em 0.67 segundos\n",
            "Finalizou em 0.10 segundos\n",
            "Finalizou em 0.17 segundos\n",
            "Finalizou em 0.12 segundos\n",
            "Finalizou em 0.12 segundos\n",
            "Finalizou em 0.15 segundos\n",
            "Finalizou em 3.36 segundos\n",
            "Finalizou em 0.08 segundos\n",
            "CPU times: user 4.16 s, sys: 22.1 ms, total: 4.18 s\n",
            "Wall time: 4.2 s\n"
          ]
        }
      ]
    },
    {
      "cell_type": "code",
      "metadata": {
        "colab": {
          "base_uri": "https://localhost:8080/"
        },
        "id": "CecPOL9eBKKw",
        "outputId": "a2c6792b-3703-4490-b76f-abe27a1f5206"
      },
      "source": [
        "# Executando calculo em modo Multiprocessing\n",
        "%%time\n",
        "mapp(fn=funcao_teste2, data=data_teste, mode='p',workers=workers)"
      ],
      "execution_count": 24,
      "outputs": [
        {
          "output_type": "stream",
          "name": "stdout",
          "text": [
            "Finalizou em 0.10 segundos\n",
            "Finalizou em 0.10 segundos\n",
            "Finalizou em 0.09 segundos\n",
            "Finalizou em 1.77 segundos\n",
            "Finalizou em 2.76 segundos\n",
            "Finalizou em 0.11 segundos\n",
            "Finalizou em 0.12 segundos\n",
            "Finalizou em 0.74 segundos\n",
            "Finalizou em 0.09 segundos\n",
            "Finalizou em 0.10 segundos\n",
            "Finalizou em 0.76 segundos\n",
            "Finalizou em 0.03 segundos\n",
            "Finalizou em 3.17 segundos\n",
            "Finalizou em 1.91 segundos\n",
            "Finalizou em 0.77 segundos\n",
            "CPU times: user 38.3 ms, sys: 41.5 ms, total: 79.8 ms\n",
            "Wall time: 4.02 s\n"
          ]
        }
      ]
    },
    {
      "cell_type": "code",
      "metadata": {
        "id": "b2-THNjAS47r"
      },
      "source": [
        ""
      ],
      "execution_count": null,
      "outputs": []
    }
  ]
}