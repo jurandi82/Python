{
  "nbformat": 4,
  "nbformat_minor": 0,
  "metadata": {
    "colab": {
      "name": "PyFormatCSV.ipynb",
      "provenance": [],
      "collapsed_sections": [],
      "authorship_tag": "ABX9TyPHbK4FHIxfsGwieJ4AOoZF",
      "include_colab_link": true
    },
    "kernelspec": {
      "name": "python3",
      "display_name": "Python 3"
    },
    "language_info": {
      "name": "python"
    }
  },
  "cells": [
    {
      "cell_type": "markdown",
      "metadata": {
        "id": "view-in-github",
        "colab_type": "text"
      },
      "source": [
        "<a href=\"https://colab.research.google.com/github/jurandi82/Python/blob/main/PyFormatCSV.ipynb\" target=\"_parent\"><img src=\"https://colab.research.google.com/assets/colab-badge.svg\" alt=\"Open In Colab\"/></a>"
      ]
    },
    {
      "cell_type": "markdown",
      "metadata": {
        "id": "FFL9KW9KRZWB"
      },
      "source": [
        "#Formatador para CSV irregular"
      ]
    },
    {
      "cell_type": "code",
      "metadata": {
        "id": "cHjM9NzKWHbw"
      },
      "source": [
        "# Só colocar o nome do arquivo, case sensitive, e executar a célula abaixo\n",
        "arquivo='vem_assim_da_ferramenta.csv'"
      ],
      "execution_count": 203,
      "outputs": []
    },
    {
      "cell_type": "code",
      "metadata": {
        "id": "Cgx2suiYSZxv"
      },
      "source": [
        "#@title Função que faz a conversão { display-mode: \"form\" }\n",
        "\n",
        "#Basta executar o código que serão gerados os arquivos\n",
        "\n",
        "def csv2pd(arquivo, sep=','):\n",
        "  # abre o arquivo e lê linha por linha\n",
        "  with open(arquivo, 'r') as file1:\n",
        "    lines = file1.readlines()\n",
        "  \n",
        "  # inicia lista de saida\n",
        "  saida=[]\n",
        "\n",
        "  # escaneia linha por linha\n",
        "  for i in range(len(lines)):\n",
        "\n",
        "    # cria uma lista com a linha\n",
        "    l=lines[i].rstrip('\\n').split(sep)\n",
        "  \n",
        "    # se o primeiro caracter for uma aspa, remove ele \n",
        "    try:\n",
        "      if l[0][0]=='\"':\n",
        "        l[0]=l[0][1:]\n",
        "    except:\n",
        "      pass\n",
        "\n",
        "    # a primeira linha vira titulos e define o número de colunas\n",
        "    # colunas excedentes serão concatenadas ao final\n",
        "    if i==0:\n",
        "      n_col=len(l)\n",
        "      n=n_col-1\n",
        "      saida.append(l)\n",
        "    \n",
        "    else:\n",
        "      # pega comprimento da lista\n",
        "      s=len(l)\n",
        "      \n",
        "      # se lista tamanho padrão, adiciona\n",
        "      if s==n_col:\n",
        "        saida.append(l)\n",
        "      \n",
        "      # se vazio ou apas ignora \n",
        "      elif l==['\"'] or l==['']:\n",
        "        pass\n",
        "\n",
        "      # se maior que o tamanho padrão, concatena ao final\n",
        "      elif s>n_col:\n",
        "        l[n]=\"\".join(l[n:])\n",
        "        l=l[0:n]\n",
        "        saida.append(l)\n",
        "\n",
        "      # se menor que o tamanho padrão, concatena no final da anterior\n",
        "      elif s<n:\n",
        "        s_csv=len(saida)\n",
        "        if len(saida[s_csv-1])==n:\n",
        "          saida[s_csv-1].append(\"\")\n",
        "        saida[s_csv-1][n]=saida[s_csv-1][n]+\" - \"+\"\".join(l)\n",
        "      \n",
        "      # casos não previstos, imprime e interrompe\n",
        "      else:\n",
        "        print(i)\n",
        "        print(l)\n",
        "        break;\n",
        "  return saida\n",
        "\n",
        "# Executa a conversão e exibe o numero de linhas e colunas\n",
        "import pandas as pd\n",
        "saida=csv2pd(arquivo)\n",
        "df=pd.DataFrame(saida[1:], columns=saida[0])\n",
        "print(f\"Formato {df.shape}\")\n",
        "\n",
        "# salva como csv\n",
        "df.to_csv(arquivo.split(\".\")[0]+\"_pass.csv\", index=False, encoding='latin1')\n",
        "\n",
        "# salva como excel\n",
        "df.to_excel(arquivo.split(\".\")[0]+\"_pass.xls\", index=False, encoding='latin1')"
      ],
      "execution_count": 204,
      "outputs": []
    },
    {
      "cell_type": "code",
      "metadata": {
        "id": "e9hGahLKgOeT"
      },
      "source": [
        ""
      ],
      "execution_count": null,
      "outputs": []
    }
  ]
}