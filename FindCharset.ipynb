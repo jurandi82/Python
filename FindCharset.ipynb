{
  "nbformat": 4,
  "nbformat_minor": 0,
  "metadata": {
    "colab": {
      "name": "FindCharset.ipynb",
      "provenance": [],
      "authorship_tag": "ABX9TyOePrWfgRi+vtsSrwQ5os3F",
      "include_colab_link": true
    },
    "kernelspec": {
      "name": "python3",
      "display_name": "Python 3"
    },
    "language_info": {
      "name": "python"
    }
  },
  "cells": [
    {
      "cell_type": "markdown",
      "metadata": {
        "id": "view-in-github",
        "colab_type": "text"
      },
      "source": [
        "<a href=\"https://colab.research.google.com/github/jurandi82/Python/blob/main/FindCharset.ipynb\" target=\"_parent\"><img src=\"https://colab.research.google.com/assets/colab-badge.svg\" alt=\"Open In Colab\"/></a>"
      ]
    },
    {
      "cell_type": "code",
      "source": [
        "def findChar(text : str, target : str) -> None:\n",
        "  encodings =[\"ascii\",\"big5\",\"big5hkscs\",\"cp037\",\"cp273\",\"cp424\",\"cp437\",\"cp500\",\"cp720\",\"cp737\",\"cp775\",\"cp850\",\"cp852\",\"cp855\",\"cp856\",\"cp857\",\n",
        "              \"cp858\",\"cp860\",\"cp861\",\"cp862\",\"cp863\",\"cp864\",\"cp865\",\"cp866\",\"cp869\",\"cp874\",\"cp875\",\"cp932\",\"cp949\",\"cp950\",\"cp1006\",\"cp1026\",\n",
        "              \"cp1125\",\"cp1140\",\"cp1250\",\"cp1251\",\"cp1252\",\"cp1253\",\"cp1254\",\"cp1255\",\"cp1256\",\"cp1257\",\"cp1258\",\"euc_jp\",\"euc_jis_2004\",\"euc_jisx0213\",\n",
        "              \"euc_kr\",\"gb2312\",\"gbk\",\"gb18030\",\"hz\",\"iso2022_jp\",\"iso2022_jp_1\",\"iso2022_jp_2\",\"iso2022_jp_2004\",\"iso2022_jp_3\",\"iso2022_jp_ext\",\n",
        "              \"iso2022_kr\",\"latin_1\",\"iso8859_2\",\"iso8859_3\",\"iso8859_4\",\"iso8859_5\",\"iso8859_6\",\"iso8859_7\",\"iso8859_8\",\"iso8859_9\",\"iso8859_10\",\n",
        "              \"iso8859_11\",\"iso8859_13\",\"iso8859_14\",\"iso8859_15\",\"iso8859_16\",\"johab\",\"koi8_r\",\"koi8_t\",\"koi8_u\",\"kz1048\",\"mac_cyrillic\",\"mac_greek\",\n",
        "              \"mac_iceland\",\"mac_latin2\",\"mac_roman\",\"mac_turkish\",\"ptcp154\",\"shift_jis\",\"shift_jis_2004\",\"shift_jisx0213\",\"utf_32\",\"utf_32_be\",\n",
        "              \"utf_32_le\",\"utf_16\",\"utf_16_be\",\"utf_16_le\",\"utf_7\",\"utf_8\",\"utf_8_sig\"]\n",
        "\n",
        "  enc,dec=set(),set()\n",
        "\n",
        "  for e in encodings:\n",
        "    for d in encodings:\n",
        "      try:\n",
        "        out=text.encode(e).decode(d)\n",
        "        if(out==target):\n",
        "          enc.add(e)\n",
        "          dec.add(d)\n",
        "          #print(f\"{out}     | {e}  | {d}\")\n",
        "      except:\n",
        "        pass\n",
        "  print(f\"\\nEntradas possíveis: {enc} \\nSaídas possíveis: {dec}\")"
      ],
      "metadata": {
        "id": "XPRFqF4d_rMF"
      },
      "execution_count": null,
      "outputs": []
    },
    {
      "cell_type": "code",
      "execution_count": null,
      "metadata": {
        "id": "GQP4cSg6-S30"
      },
      "outputs": [],
      "source": [
        "text=\"202203_Licitaç╞o.csv\"\n",
        "target=\"202203_Licitação.csv\""
      ]
    },
    {
      "cell_type": "code",
      "source": [
        "findChar(text,target)"
      ],
      "metadata": {
        "colab": {
          "base_uri": "https://localhost:8080/"
        },
        "id": "efWOyToFARvJ",
        "outputId": "d4644083-02c8-4695-e09e-69d5e717dc8f"
      },
      "execution_count": null,
      "outputs": [
        {
          "output_type": "stream",
          "name": "stdout",
          "text": [
            "\n",
            "Entradas possíveis: {'cp437', 'cp720', 'cp860', 'cp863', 'cp865', 'cp861'} \n",
            "Saídas possíveis: {'cp858', 'cp850', 'cp857'}\n"
          ]
        }
      ]
    },
    {
      "cell_type": "code",
      "source": [
        ""
      ],
      "metadata": {
        "id": "vsbKz3wzGanr"
      },
      "execution_count": null,
      "outputs": []
    }
  ]
}