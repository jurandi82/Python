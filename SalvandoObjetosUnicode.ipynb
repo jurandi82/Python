{
  "nbformat": 4,
  "nbformat_minor": 0,
  "metadata": {
    "colab": {
      "name": "SalvandoObjetosUnicode.ipynb",
      "provenance": [],
      "authorship_tag": "ABX9TyPTq1lpcNVvnV4ghiQCoEX2",
      "include_colab_link": true
    },
    "kernelspec": {
      "name": "python3",
      "display_name": "Python 3"
    },
    "language_info": {
      "name": "python"
    }
  },
  "cells": [
    {
      "cell_type": "markdown",
      "metadata": {
        "id": "view-in-github",
        "colab_type": "text"
      },
      "source": [
        "<a href=\"https://colab.research.google.com/github/jurandi82/Python/blob/main/SalvandoObjetosUnicode.ipynb\" target=\"_parent\"><img src=\"https://colab.research.google.com/assets/colab-badge.svg\" alt=\"Open In Colab\"/></a>"
      ]
    },
    {
      "cell_type": "code",
      "source": [
        "import pickle\n",
        "import bz2\n",
        "import binascii\n",
        "\n",
        "class picklez:\n",
        "  #Converte Obj em Dump->BZ2->U64\n",
        "  def dump_to_u64(obj):\n",
        "    return binascii.b2a_base64(bz2.compress(pickle.dumps(obj),9))\n",
        "\n",
        "  #Carrega Obj a partir da String U64\n",
        "  def load_from_u64(obj):\n",
        "    return pickle.loads(bz2.decompress(binascii.a2b_base64(obj)))\n",
        "\n",
        "  #Converte Obj em aquivo comprimido\n",
        "  def dump_to_file(obj,title):\n",
        "    with open(title+'.pbz2','wb') as f:\n",
        "      f.write(bz2.compress(pickle.dumps(obj),9))  \n",
        "    return True\n",
        "\n",
        "  #Carrega Obj do arquivo .pbz2\n",
        "  def load_from_file(title):\n",
        "    with open(title+'.pbz2','rb') as f:\n",
        "      return pickle.loads(bz2.decompress(f.read))\n",
        "  \n",
        "  #Salva Obj binario em aquivo\n",
        "  def dump_to_file(obj,filename):\n",
        "    with open(filename,'wb') as f:\n",
        "      f.write(obj)  \n",
        "    return True"
      ],
      "metadata": {
        "id": "HhVyFxkge0S1"
      },
      "execution_count": null,
      "outputs": []
    },
    {
      "cell_type": "code",
      "source": [
        "#criando um objeto\n",
        "c = '''\n",
        "a = 5\n",
        "b=6\n",
        "sum=a+b\n",
        "print(\"sum =\",sum)\n",
        "'''\n",
        "c = compile(c, 'sumstring', 'exec')\n",
        "\n",
        "exec(c)"
      ],
      "metadata": {
        "id": "5FGH3Eqi9E1w",
        "colab": {
          "base_uri": "https://localhost:8080/"
        },
        "outputId": "3c7fbdd4-669d-437c-83dc-65624cbb5d1d"
      },
      "execution_count": null,
      "outputs": [
        {
          "output_type": "stream",
          "name": "stdout",
          "text": [
            "sum = 11\n"
          ]
        }
      ]
    },
    {
      "cell_type": "code",
      "source": [
        "u64=picklez.dump_to_u64(c)\n",
        "print(len(u64))\n",
        "print(u64[0:100])"
      ],
      "metadata": {
        "colab": {
          "base_uri": "https://localhost:8080/"
        },
        "id": "UoPFRvUSnrLT",
        "outputId": "8dd6b461-0c79-4a3e-d980-8bdc50c14a1b"
      },
      "execution_count": null,
      "outputs": [
        {
          "output_type": "stream",
          "name": "stdout",
          "text": [
            "265\n",
            "b'QlpoOTFBWSZTWfjtRqYAAGD/wH/+AIFAYQAHSAkYUL6v/iBIACAAkRmmQAAPUAAAAaZA1MjSNIegjQBhGgNNNB6kZhoRyKVgW1V0'\n"
          ]
        }
      ]
    },
    {
      "cell_type": "code",
      "source": [
        "c2=picklez.load_from_u64(u64)\n",
        "exec(c2)"
      ],
      "metadata": {
        "colab": {
          "base_uri": "https://localhost:8080/"
        },
        "id": "MdBfW0OznTfX",
        "outputId": "45f7a22c-6aa2-4a01-ed24-698245d1d2d8"
      },
      "execution_count": null,
      "outputs": [
        {
          "output_type": "stream",
          "name": "stdout",
          "text": [
            "sum = 11\n"
          ]
        }
      ]
    },
    {
      "cell_type": "code",
      "source": [
        "#@title Execute essa célula para gerar os arquivos {display-mode: \"form\"}\n",
        "\n",
        "# This code will be hidden when the notebook is loaded.\n",
        "\n",
        "#Criando arquivo pelo u64\n",
        "readme = b'QlpoOTFBWSZTWapQkg8AAoj/wEoSBABQd4ASPzfekD///7BAAEACqIc0UVDU9JoTJNTZR6mh6gGJkafqTQ2psoaBpoTRMqbImTI0AAADTQDQYAAAAAAAAAABIkJoAp6SfqZT1PU0DQ00Gg0yDQl6f2WwyMmpEjtVMb3AXWAzGgrZCE49Qtwjik30I4dpGkHZ9LG0uLnmw+LBmxaprdVddsNkXY50/RSA8VVmqWL41DRRYQsYz+c1S8q41gYM3TZRasmNiBgpCub1CyKr9zd8DUhgJ0ZhYys7LKsPfKaigcr+fr6X/bRADoIWJqDqxlySqyQlKJdoALt3eBULFFKCTWJR7Pz101mDUo7s2t68/iGVu3/IZXdN/1ucBfeE1supVRPhbj5OqIJJAhv9WieHCEHAiVjGhwZgnwOS3aiiQOlcirxJLCdmpM20HPpX895N2DUUcQpjQQItHEeiPp7F2IT0NyavxMrcPeW+IYttNnXHPIioxcroSokRppCk2oi3tkBtVFN2I6QBs0XshmpOEK+pWRMuc6FrKlozIgyoGApIC4TS4yxBnUBSLotZDCJ0+yz9WoMsC8DZoOprmJxeLgyE2w9bEJ+MKfbojoJwGmqblgq2b7BFOGLHo1GndjtE6n+ut6Kopy68d6RzGWPuJA0w39NgEKAaWS/jnEBaTIuI7JaHJrExwkBaJYyAZGY6CHZ2QObJyouEWCYNdVlCdiJDrZw6dvPDIDk9MAySOKBz1zo2EHGkBLS35S7ly23YbtQrUi+GG8oUEcY2KXQSYa+ySgrO0R7fI5GToVhjKk3pmpkEDJKUOuWCUYUvVcgcDHRAk4FwJnpUTsZZrMouoQ2pbShvnIMq1AwEvyxLNzZPOsKQrblZAwoaCdc3jYRDiyDBnOSgmUdGQ8f+LuSKcKEhVKEkHg==\\n'\n",
        "\n",
        "with open('readme.txt','wb') as f:\n",
        "  f.write(ubd(readme))"
      ],
      "metadata": {
        "id": "NT2JTkq3v91G"
      },
      "execution_count": null,
      "outputs": []
    },
    {
      "cell_type": "code",
      "source": [
        ""
      ],
      "metadata": {
        "id": "qSA0hOUEv9Nz"
      },
      "execution_count": null,
      "outputs": []
    },
    {
      "cell_type": "code",
      "source": [
        ""
      ],
      "metadata": {
        "id": "tTWX9P05v9Ej"
      },
      "execution_count": null,
      "outputs": []
    }
  ]
}