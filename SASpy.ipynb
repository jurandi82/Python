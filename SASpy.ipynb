{
  "nbformat": 4,
  "nbformat_minor": 0,
  "metadata": {
    "colab": {
      "name": "SASpy.ipynb",
      "provenance": [],
      "authorship_tag": "ABX9TyONtApqTKFnl2cU2akWF3np",
      "include_colab_link": true
    },
    "kernelspec": {
      "name": "python3",
      "display_name": "Python 3"
    },
    "language_info": {
      "name": "python"
    }
  },
  "cells": [
    {
      "cell_type": "markdown",
      "metadata": {
        "id": "view-in-github",
        "colab_type": "text"
      },
      "source": [
        "<a href=\"https://colab.research.google.com/github/jurandi82/Python/blob/main/SASpy.ipynb\" target=\"_parent\"><img src=\"https://colab.research.google.com/assets/colab-badge.svg\" alt=\"Open In Colab\"/></a>"
      ]
    },
    {
      "cell_type": "markdown",
      "metadata": {
        "id": "tcf-qHrHrhbK"
      },
      "source": [
        "# Iniciando o ambiente do SASpy"
      ]
    },
    {
      "cell_type": "markdown",
      "metadata": {
        "id": "PVpIj-EXrs95"
      },
      "source": [
        "#Localizando o java"
      ]
    },
    {
      "cell_type": "code",
      "metadata": {
        "id": "xgnZzZSdoWNq"
      },
      "source": [
        "# Java updade se necessario \n",
        "\n",
        "# !apt-get install openjdk-8-jdk-headless -qq > /dev/null\n",
        "# import os\n",
        "# os.environ[\"JAVA_HOME\"] = \"/usr/lib/jvm/java-8-openjdk-amd64\"\n",
        "# !update-alternatives --set java /usr/lib/jvm/java-8-openjdk-amd64/jre/bin/java\n",
        "# !java -version"
      ],
      "execution_count": 1,
      "outputs": []
    },
    {
      "cell_type": "code",
      "metadata": {
        "id": "PGfsHCg-q-6s"
      },
      "source": [
        "# java=!java -version\n",
        "# print(java[2])\n",
        "\n",
        "# java_home=!ls -l /etc/alternatives/java\n",
        "# java_home=java_home[0].split(\" -> \")[1]\n",
        "# print(java_home)"
      ],
      "execution_count": 2,
      "outputs": []
    },
    {
      "cell_type": "markdown",
      "metadata": {
        "id": "yv3Ldcymr0po"
      },
      "source": [
        "# Criando arquivos de configuração"
      ]
    },
    {
      "cell_type": "code",
      "metadata": {
        "colab": {
          "base_uri": "https://localhost:8080/"
        },
        "id": "a5tkURC6haRt",
        "outputId": "e8435e48-e05c-44f2-cac6-14a6f22e388d"
      },
      "source": [
        "#Instalação\n",
        "!pip install saspy"
      ],
      "execution_count": 9,
      "outputs": [
        {
          "output_type": "stream",
          "name": "stdout",
          "text": [
            "Requirement already satisfied: saspy in /usr/local/lib/python3.7/dist-packages (3.7.5)\n"
          ]
        }
      ]
    },
    {
      "cell_type": "code",
      "metadata": {
        "id": "AD51nxFTiGmL"
      },
      "source": [
        "cfg_file='/usr/local/lib/python3.7/dist-packages/saspy/sascfg_personal.py'\n",
        "\n",
        "cfg='''\n",
        "SAS_config_names=['oda']\n",
        "oda = {'java' : '/usr/lib/jvm/java-11-openjdk-amd64/bin/java',\n",
        "#US Home Region\n",
        "'iomhost' : ['odaws01-usw2.oda.sas.com','odaws02-usw2.oda.sas.com','odaws03-usw2.oda.sas.com','odaws04-usw2.oda.sas.com'],\n",
        "#European Home Region\n",
        "#'iomhost' : ['odaws01-euw1.oda.sas.com','odaws02-euw1.oda.sas.com'],\n",
        "#Asia Pacific Home Region\n",
        "#'iomhost' : ['odaws01-apse1.oda.sas.com','odaws02-apse1.oda.sas.com'],\n",
        "'iomport' : 8591,\n",
        "'authkey' : 'oda',\n",
        "'encoding' : 'utf-8'\n",
        "}'''\n",
        "try:\n",
        "  with open(cfg_file, \"w\") as text_file:\n",
        "    text_file.write(cfg)\n",
        "    text_file.close()\n",
        "except:\n",
        "      print('oops')"
      ],
      "execution_count": 4,
      "outputs": []
    },
    {
      "cell_type": "markdown",
      "metadata": {
        "id": "nK2cMXo6zvf7"
      },
      "source": [
        "# Criando arquivo de login"
      ]
    },
    {
      "cell_type": "code",
      "metadata": {
        "id": "A4FE2zKSlukN"
      },
      "source": [
        "from getpass import getpass\n",
        "#cfg='oda user '+input('email: ')+' password '+getpass('pass')\n",
        "\n",
        "with open('/root/.authinfo', \"w\") as text_file:\n",
        "  text_file.write(cfg)\n",
        "  text_file.close()"
      ],
      "execution_count": 5,
      "outputs": []
    },
    {
      "cell_type": "markdown",
      "metadata": {
        "id": "uLl9uCgtzyGM"
      },
      "source": [
        "#Carregando SASpy"
      ]
    },
    {
      "cell_type": "code",
      "metadata": {
        "id": "kxM8vGr3hO8i"
      },
      "source": [
        "import saspy\n",
        "#saspy.SAScfg\n",
        "#saspy.list_configs()"
      ],
      "execution_count": 6,
      "outputs": []
    },
    {
      "cell_type": "code",
      "metadata": {
        "colab": {
          "base_uri": "https://localhost:8080/"
        },
        "id": "KnHqjOR4nNe4",
        "outputId": "59ec55e5-d8d8-4582-a736-f4f4ffaaa04e"
      },
      "source": [
        "sas_session = saspy.SASsession()\n",
        "sas_session"
      ],
      "execution_count": 7,
      "outputs": [
        {
          "output_type": "stream",
          "name": "stdout",
          "text": [
            "Using SAS Config named: oda\n",
            "SAS Connection established. Subprocess id is 121\n",
            "\n"
          ]
        },
        {
          "output_type": "execute_result",
          "data": {
            "text/plain": [
              "Access Method         = IOM\n",
              "SAS Config name       = oda\n",
              "SAS Config file       = /usr/local/lib/python3.7/dist-packages/saspy/sascfg_personal.py\n",
              "WORK Path             = /saswork/SAS_workFA84000012A2_odaws02-usw2.oda.sas.com/SAS_workF718000012A2_odaws02-usw2.oda.sas.com/\n",
              "SAS Version           = 9.04.01M6P11072018\n",
              "SASPy Version         = 3.7.5\n",
              "Teach me SAS          = False\n",
              "Batch                 = False\n",
              "Results               = Pandas\n",
              "SAS Session Encoding  = utf-8\n",
              "Python Encoding value = utf-8\n",
              "SAS process Pid value = 4770\n"
            ]
          },
          "metadata": {},
          "execution_count": 7
        }
      ]
    },
    {
      "cell_type": "code",
      "metadata": {
        "colab": {
          "base_uri": "https://localhost:8080/"
        },
        "id": "Xxvd7cFdrN8U",
        "outputId": "5e761ae0-f7f5-4a83-f1e0-12d78fa969f3"
      },
      "source": [
        "sas_session.endsas()"
      ],
      "execution_count": 8,
      "outputs": [
        {
          "output_type": "stream",
          "name": "stdout",
          "text": [
            "SAS Connection terminated. Subprocess id was 121\n"
          ]
        }
      ]
    }
  ]
}