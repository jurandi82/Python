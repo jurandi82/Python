{
  "nbformat": 4,
  "nbformat_minor": 0,
  "metadata": {
    "colab": {
      "name": "LoadJavaClass.ipynb",
      "provenance": [],
      "authorship_tag": "ABX9TyN/s3/fTRx+DGQl5f5UzhhG",
      "include_colab_link": true
    },
    "kernelspec": {
      "name": "python3",
      "display_name": "Python 3"
    },
    "language_info": {
      "name": "python"
    }
  },
  "cells": [
    {
      "cell_type": "markdown",
      "metadata": {
        "id": "view-in-github",
        "colab_type": "text"
      },
      "source": [
        "<a href=\"https://colab.research.google.com/github/jurandi82/Python/blob/main/LoadJavaClass.ipynb\" target=\"_parent\"><img src=\"https://colab.research.google.com/assets/colab-badge.svg\" alt=\"Open In Colab\"/></a>"
      ]
    },
    {
      "cell_type": "code",
      "source": [
        "# Checando a versão do java\n",
        "!java -version"
      ],
      "metadata": {
        "colab": {
          "base_uri": "https://localhost:8080/"
        },
        "id": "ouLBRXZE414e",
        "outputId": "01f906d5-9656-4928-c61d-06a70dae3829"
      },
      "execution_count": 1,
      "outputs": [
        {
          "output_type": "stream",
          "name": "stdout",
          "text": [
            "openjdk version \"11.0.14\" 2022-01-18\n",
            "OpenJDK Runtime Environment (build 11.0.14+9-Ubuntu-0ubuntu2.18.04)\n",
            "OpenJDK 64-Bit Server VM (build 11.0.14+9-Ubuntu-0ubuntu2.18.04, mixed mode, sharing)\n"
          ]
        }
      ]
    },
    {
      "cell_type": "code",
      "execution_count": 3,
      "metadata": {
        "colab": {
          "base_uri": "https://localhost:8080/"
        },
        "id": "BKRGZ-R836_Z",
        "outputId": "1a712d3f-0a02-4819-c18f-627ef2bb5e7d"
      },
      "outputs": [
        {
          "output_type": "stream",
          "name": "stdout",
          "text": [
            "Requirement already satisfied: import-java in /usr/local/lib/python3.7/dist-packages (0.6)\n",
            "Requirement already satisfied: pyjnius in /usr/local/lib/python3.7/dist-packages (from import-java) (1.4.1)\n",
            "Requirement already satisfied: six>=1.7.0 in /usr/local/lib/python3.7/dist-packages (from pyjnius->import-java) (1.15.0)\n"
          ]
        }
      ],
      "source": [
        "# instalando o módulo\n",
        "%pip install import-java"
      ]
    },
    {
      "cell_type": "code",
      "source": [
        "import java\n",
        "\n",
        "with java:\n",
        "  from _ import System\n",
        "  from _ import ClassLoader\n",
        "\n",
        "System.getProperties().get('java.specification.version')"
      ],
      "metadata": {
        "colab": {
          "base_uri": "https://localhost:8080/",
          "height": 35
        },
        "id": "YCX8lKee4doy",
        "outputId": "e4f35189-b3d8-437d-eb2a-192e01522f88"
      },
      "execution_count": 4,
      "outputs": [
        {
          "output_type": "execute_result",
          "data": {
            "text/plain": [
              "'11'"
            ],
            "application/vnd.google.colaboratory.intrinsic+json": {
              "type": "string"
            }
          },
          "metadata": {},
          "execution_count": 4
        }
      ]
    },
    {
      "cell_type": "code",
      "source": [
        "System.out.println(\"Vai para o console essa mensagem\")"
      ],
      "metadata": {
        "id": "tQT1LNZxKGGt"
      },
      "execution_count": 5,
      "outputs": []
    },
    {
      "cell_type": "code",
      "source": [
        "#Criando classe hello de teste \n",
        "#Armazenda em U64\n",
        "\n",
        "import binascii\n",
        "data = b'yv66vgAAADcAFAoABAAQCAARBwASBwATAQAGPGluaXQ+AQADKClWAQAEQ29kZQEAD0xpbmVOdW1iZXJUYWJsZQEAEkxvY2FsVmFyaWFibGVUYWJsZQEABHRoaXMBAAdMaGVsbG87AQADc2F5AQAUKClMamF2YS9sYW5nL1N0cmluZzsBAApTb3VyY2VGaWxlAQAKaGVsbG8uamF2YQwABQAGAQAET2zDoQEABWhlbGxvAQAQamF2YS9sYW5nL09iamVjdAAhAAMABAAAAAAAAgABAAUABgABAAcAAAAvAAEAAQAAAAUqtwABsQAAAAIACAAAAAYAAQAAAAoACQAAAAwAAQAAAAUACgALAAAACQAMAA0AAQAHAAAAGwABAAAAAAADEgKwAAAAAQAIAAAABgABAAAADAABAA4AAAACAA8=\\n'\n",
        "\n",
        "with open(\"hello.class\",\"wb\") as f:\n",
        "    data = f.write(binascii.a2b_base64(data))"
      ],
      "metadata": {
        "id": "6WFqreqPLgKf"
      },
      "execution_count": 6,
      "outputs": []
    },
    {
      "cell_type": "code",
      "source": [
        "cl = ClassLoader.getSystemClassLoader()\n",
        "hello=cl.loadClass('hello')\n",
        "oi = hello.newInstance()\n",
        "oi.say()"
      ],
      "metadata": {
        "colab": {
          "base_uri": "https://localhost:8080/",
          "height": 35
        },
        "id": "WhH-sYi47SWG",
        "outputId": "e8f8aa89-d344-4179-d7ce-262c3fb3e9d5"
      },
      "execution_count": 7,
      "outputs": [
        {
          "output_type": "execute_result",
          "data": {
            "text/plain": [
              "'Olá'"
            ],
            "application/vnd.google.colaboratory.intrinsic+json": {
              "type": "string"
            }
          },
          "metadata": {},
          "execution_count": 7
        }
      ]
    }
  ]
}